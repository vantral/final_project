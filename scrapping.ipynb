{
 "cells": [
  {
   "cell_type": "code",
   "execution_count": 2,
   "id": "93d313bf",
   "metadata": {},
   "outputs": [],
   "source": [
    "import requests\n",
    "from bs4 import BeautifulSoup\n",
    "from tqdm.notebook import tqdm\n",
    "import json"
   ]
  },
  {
   "cell_type": "code",
   "execution_count": 3,
   "id": "1f42de59",
   "metadata": {},
   "outputs": [
    {
     "name": "stdout",
     "output_type": "stream",
     "text": [
      "2\t3\t4\t5\t6\t7\t8\t9\t10\t11\t12\t13\t14\t15\t16\t17\t18\t19\t20\t21\t22\t23\t24\t25\t26\t27\t28\t29\t30\t31\t32\t33\t34\t35\t36\t37\t38\t39\t40\t41\t42\t43\t44\t45\t46\t47\t48\t49\t50\t51\t52\t53\t54\t55\t56\t57\t58\t59\t60\t61\t62\t63\t64\t65\t66\t67\t68\t69\t70\t71\t72\t73\t74\t75\t76\t77\t78\t79\t80\t81\t82\t83\t84\t85\t86\t87\t88\t89\t90\t91\t92\t93\t94\t95\t96\t97\t98\t99\t100\t101\t102\t103\t104\t105\t106\t107\t108\t109\t110\t111\t112\t113\t114\t115\t116\t117\t118\t119\t120\t121\t122\t123\t124\t125\t126\t127\t128\t129\t130\t131\t132\t133\t134\t135\t136\t137\t138\t139\t140\t141\t142\t143\t144\t145\t146\t147\t148\t149\t150\t151\t152\t153\t154\t155\t156\t157\t158\t159\t160\t161\t162\t163\t164\t165\t166\t167\t168\t169\t170\t171\t172\t173\t174\t175\t176\t177\t178\t179\t180\t181\t182\t183\t184\t185\t186\t187\t188\t189\t190\t191\t192\t193\t194\t195\t196\t197\t198\t199\t200\t"
     ]
    }
   ],
   "source": [
    "i = 1\n",
    "news = []\n",
    "\n",
    "while (page := requests.get(f'https://www.hse.ru/news/page{i}.html')).status_code != 404:\n",
    "    soup = BeautifulSoup(page.text)\n",
    "    news.extend([\n",
    "        x.a['href'] for x in soup.find_all('h2')\n",
    "    ])\n",
    "    \n",
    "    i += 1\n",
    "    print(i, end='\\t')\n",
    "\n",
    "    # Comment the following code to scrap all news\n",
    "\n",
    "    if i == 200:\n",
    "        break"
   ]
  },
  {
   "cell_type": "code",
   "execution_count": 4,
   "id": "2086a5cb",
   "metadata": {},
   "outputs": [],
   "source": [
    "news = ['https://www.hse.ru' + x if x[0] == '/' else x for x in news]"
   ]
  },
  {
   "cell_type": "code",
   "execution_count": 4,
   "id": "26f0a1cd",
   "metadata": {},
   "outputs": [],
   "source": [
    "with open('news.json', 'w', encoding='utf8') as f:\n",
    "    json.dump(news, f, ensure_ascii=False, indent=2)"
   ]
  },
  {
   "cell_type": "code",
   "execution_count": 5,
   "id": "3f22ea51",
   "metadata": {},
   "outputs": [
    {
     "data": {
      "application/vnd.jupyter.widget-view+json": {
       "model_id": "6988c81af2794e8ab85767193f658cb2",
       "version_major": 2,
       "version_minor": 0
      },
      "text/plain": [
       "  0%|          | 0/1990 [00:00<?, ?it/s]"
      ]
     },
     "metadata": {},
     "output_type": "display_data"
    }
   ],
   "source": [
    "news_texts = []\n",
    "\n",
    "for link in tqdm(news):\n",
    "    html = requests.get(link).text\n",
    "    soup = BeautifulSoup(html)\n",
    "    pars = soup.find('div', {'class': 'post'})\n",
    "    if not pars:\n",
    "        continue\n",
    "    pars = pars.find_all('p')\n",
    "    news_texts.append(\n",
    "        '\\n'.join(par.text for par in pars)\n",
    "    )"
   ]
  },
  {
   "cell_type": "code",
   "execution_count": 6,
   "id": "14b8b9eb",
   "metadata": {},
   "outputs": [],
   "source": [
    "with open('news_texts.json', 'w', encoding='utf8') as f:\n",
    "    json.dump(news_texts, f, ensure_ascii=False, indent=2)"
   ]
  },
  {
   "cell_type": "code",
   "execution_count": 7,
   "id": "0b498629",
   "metadata": {},
   "outputs": [],
   "source": [
    "verbs = [\n",
    "    'думать',\n",
    "    'знать',\n",
    "    'лгать',\n",
    "    'обнаружить',\n",
    "    'обнаруживать',\n",
    "    'подумать',\n",
    "    'постесняться',\n",
    "    'признавать',\n",
    "    'признать',\n",
    "    'пытаться',\n",
    "    'рассказать',\n",
    "    'рассказывать',\n",
    "    'сказать',\n",
    "    'сожалеть',\n",
    "    'солгать',\n",
    "    'стесняться',\n",
    "    'суметь',\n",
    "    'считать',\n",
    "    'хотеть'\n",
    "]"
   ]
  },
  {
   "cell_type": "code",
   "execution_count": 8,
   "id": "e7f79b34",
   "metadata": {},
   "outputs": [],
   "source": [
    "from nltk.tokenize import sent_tokenize, word_tokenize\n",
    "from pymorphy2 import MorphAnalyzer\n",
    "import pandas as pd\n",
    "from collections import defaultdict\n",
    "\n",
    "m = MorphAnalyzer()"
   ]
  },
  {
   "cell_type": "code",
   "execution_count": 9,
   "id": "e0a08bba",
   "metadata": {},
   "outputs": [
    {
     "data": {
      "application/vnd.jupyter.widget-view+json": {
       "model_id": "36a4c735fd2b4f8d80f7e29d955cbeac",
       "version_major": 2,
       "version_minor": 0
      },
      "text/plain": [
       "  0%|          | 0/1814 [00:00<?, ?it/s]"
      ]
     },
     "metadata": {},
     "output_type": "display_data"
    }
   ],
   "source": [
    "data = []\n",
    "\n",
    "forms = {}\n",
    "\n",
    "for text in tqdm(news_texts):\n",
    "    sents = sent_tokenize(text)\n",
    "    for i, sent in enumerate(sents):\n",
    "        for word in word_tokenize(sent):\n",
    "            if word in forms:\n",
    "                lemma = forms.get(word)\n",
    "            else:\n",
    "                lemma = m.parse(word)[0].normal_form\n",
    "                forms[word] = lemma\n",
    "            if lemma in verbs:\n",
    "                data.append({\n",
    "                    'Source': 'HSE News',\n",
    "                    'Verb': lemma,\n",
    "                    'Embedding': None,\n",
    "                    'PreContext': ' '.join(sents[i - 2:i]),\n",
    "                    'Target': sent,\n",
    "                    'PostContext': ' '.join(sents[i + 1:i + 3])\n",
    "                })"
   ]
  },
  {
   "cell_type": "code",
   "execution_count": 10,
   "id": "b2001549",
   "metadata": {},
   "outputs": [],
   "source": [
    "df = pd.DataFrame(data)"
   ]
  },
  {
   "cell_type": "code",
   "execution_count": 11,
   "id": "5f6e9982",
   "metadata": {},
   "outputs": [],
   "source": [
    "df = df.reindex(columns = df.columns.tolist() + [\n",
    "    'MatTense',\n",
    "    'MatSubjPers',\n",
    "    'MatSubjNum',\n",
    "    'MatAspect',\n",
    "    'SubTense',\n",
    "    'SubSubjPers',\n",
    "    'SubSubjNum',\n",
    "    'SubAspect',\n",
    "    'Conjunction'])"
   ]
  },
  {
   "cell_type": "code",
   "execution_count": 12,
   "id": "26bf100d",
   "metadata": {},
   "outputs": [],
   "source": [
    "df.to_excel('new_input.xlsx', index=False)"
   ]
  }
 ],
 "metadata": {
  "kernelspec": {
   "display_name": "Python 3 (ipykernel)",
   "language": "python",
   "name": "python3"
  },
  "language_info": {
   "codemirror_mode": {
    "name": "ipython",
    "version": 3
   },
   "file_extension": ".py",
   "mimetype": "text/x-python",
   "name": "python",
   "nbconvert_exporter": "python",
   "pygments_lexer": "ipython3",
   "version": "3.10.9"
  }
 },
 "nbformat": 4,
 "nbformat_minor": 5
}
